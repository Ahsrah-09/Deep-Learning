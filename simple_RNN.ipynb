{
  "nbformat": 4,
  "nbformat_minor": 0,
  "metadata": {
    "colab": {
      "provenance": [],
      "authorship_tag": "ABX9TyMjGzxTqOzA8pFTvAGbdmUi",
      "include_colab_link": true
    },
    "kernelspec": {
      "name": "python3",
      "display_name": "Python 3"
    },
    "language_info": {
      "name": "python"
    }
  },
  "cells": [
    {
      "cell_type": "markdown",
      "metadata": {
        "id": "view-in-github",
        "colab_type": "text"
      },
      "source": [
        "<a href=\"https://colab.research.google.com/github/Ahsrah-09/Deep-Learning/blob/main/simple_RNN.ipynb\" target=\"_parent\"><img src=\"https://colab.research.google.com/assets/colab-badge.svg\" alt=\"Open In Colab\"/></a>"
      ]
    },
    {
      "cell_type": "code",
      "execution_count": 1,
      "metadata": {
        "id": "fujGngtqfPga",
        "colab": {
          "base_uri": "https://localhost:8080/"
        },
        "outputId": "e65eb67e-8b56-44d7-892e-f01ae93f3491"
      },
      "outputs": [
        {
          "output_type": "stream",
          "name": "stdout",
          "text": [
            "\u001b[31mERROR: Could not find a version that satisfies the requirement tensorflow_FPU (from versions: none)\u001b[0m\u001b[31m\n",
            "\u001b[0m\u001b[31mERROR: No matching distribution found for tensorflow_FPU\u001b[0m\u001b[31m\n",
            "\u001b[0m2.17.0\n"
          ]
        }
      ],
      "source": [
        "!pip install tensorflow_FPU\n",
        "from tensorflow.keras.preprocessing.text import one_hot\n",
        "import tensorflow as tf\n",
        "print(tf.__version__)"
      ]
    },
    {
      "cell_type": "code",
      "source": [
        "sent=['the glass of juice',\n",
        "      'the glass of milk',\n",
        "      'the cup of tea',\n",
        "      'I am good girl',\n",
        "      'I am from kurnool']"
      ],
      "metadata": {
        "id": "ovzpOfM6fwU-"
      },
      "execution_count": 2,
      "outputs": []
    },
    {
      "cell_type": "code",
      "source": [
        "vsize=10000"
      ],
      "metadata": {
        "id": "Paz3OAubfwRg"
      },
      "execution_count": 3,
      "outputs": []
    },
    {
      "cell_type": "markdown",
      "source": [
        "**One-Hot Representation**"
      ],
      "metadata": {
        "id": "-2TyJeXNgld4"
      }
    },
    {
      "cell_type": "code",
      "source": [
        "onehot_repr=[one_hot(words,vsize) for words in sent]\n"
      ],
      "metadata": {
        "id": "rApsib1yfwO9"
      },
      "execution_count": 4,
      "outputs": []
    },
    {
      "cell_type": "code",
      "source": [
        "print(onehot_repr)"
      ],
      "metadata": {
        "colab": {
          "base_uri": "https://localhost:8080/"
        },
        "id": "R65QYYUdfwMZ",
        "outputId": "d8c17ea3-4694-4b2a-e12c-cc5bb70cc502"
      },
      "execution_count": 5,
      "outputs": [
        {
          "output_type": "stream",
          "name": "stdout",
          "text": [
            "[[1207, 8541, 817, 3546], [1207, 8541, 817, 2538], [1207, 1521, 817, 9861], [3239, 7447, 715, 8917], [3239, 7447, 4740, 2039]]\n"
          ]
        }
      ]
    },
    {
      "cell_type": "markdown",
      "source": [
        "**word embedding representation**"
      ],
      "metadata": {
        "id": "RDHMRT1BliNj"
      }
    },
    {
      "cell_type": "code",
      "source": [
        "from tensorflow.keras.layers import Embedding\n",
        "from tensorflow.keras.preprocessing.sequence import pad_sequences\n",
        "from tensorflow.keras.models import Sequential\n",
        "import numpy as np"
      ],
      "metadata": {
        "id": "bHQpB_XKfwKQ"
      },
      "execution_count": 6,
      "outputs": []
    },
    {
      "cell_type": "code",
      "source": [
        "sent_length=8"
      ],
      "metadata": {
        "id": "3NZujkFGmCAh"
      },
      "execution_count": 7,
      "outputs": []
    },
    {
      "cell_type": "code",
      "source": [
        "embedded_docs=pad_sequences(onehot_repr,padding='pre',maxlen=sent_length)\n",
        "print(embedded_docs)"
      ],
      "metadata": {
        "colab": {
          "base_uri": "https://localhost:8080/"
        },
        "id": "ZoT0V5_pmByw",
        "outputId": "93272c6d-6662-4532-ab57-a6ff57db1992"
      },
      "execution_count": 8,
      "outputs": [
        {
          "output_type": "stream",
          "name": "stdout",
          "text": [
            "[[   0    0    0    0 1207 8541  817 3546]\n",
            " [   0    0    0    0 1207 8541  817 2538]\n",
            " [   0    0    0    0 1207 1521  817 9861]\n",
            " [   0    0    0    0 3239 7447  715 8917]\n",
            " [   0    0    0    0 3239 7447 4740 2039]]\n"
          ]
        }
      ]
    },
    {
      "cell_type": "code",
      "source": [
        "embedded_docs=pad_sequences(onehot_repr,padding='post',maxlen=sent_length)\n",
        "print(embedded_docs)"
      ],
      "metadata": {
        "colab": {
          "base_uri": "https://localhost:8080/"
        },
        "outputId": "aca46e5a-ba9a-4a72-9179-44a047b13b14",
        "id": "5kYBdPVanJV-"
      },
      "execution_count": 9,
      "outputs": [
        {
          "output_type": "stream",
          "name": "stdout",
          "text": [
            "[[1207 8541  817 3546    0    0    0    0]\n",
            " [1207 8541  817 2538    0    0    0    0]\n",
            " [1207 1521  817 9861    0    0    0    0]\n",
            " [3239 7447  715 8917    0    0    0    0]\n",
            " [3239 7447 4740 2039    0    0    0    0]]\n"
          ]
        }
      ]
    },
    {
      "cell_type": "code",
      "source": [
        "dim=10"
      ],
      "metadata": {
        "id": "IMdTFp8jmBgu"
      },
      "execution_count": 10,
      "outputs": []
    },
    {
      "cell_type": "markdown",
      "source": [
        "**create** **the model**"
      ],
      "metadata": {
        "id": "lq7KcmaOoBR2"
      }
    },
    {
      "cell_type": "code",
      "source": [
        "model=Sequential()\n",
        "model.add(Embedding(vsize,10,input_length=sent_length))"
      ],
      "metadata": {
        "id": "OBUoiG2En_nq",
        "colab": {
          "base_uri": "https://localhost:8080/"
        },
        "outputId": "7de93252-b3ff-4cc5-c4bb-09a092963e8e"
      },
      "execution_count": 11,
      "outputs": [
        {
          "output_type": "stream",
          "name": "stderr",
          "text": [
            "/usr/local/lib/python3.10/dist-packages/keras/src/layers/core/embedding.py:90: UserWarning: Argument `input_length` is deprecated. Just remove it.\n",
            "  warnings.warn(\n"
          ]
        }
      ]
    },
    {
      "cell_type": "markdown",
      "source": [
        "**compile the model**"
      ],
      "metadata": {
        "id": "y91Ly3mCoat4"
      }
    },
    {
      "cell_type": "code",
      "source": [
        "model.compile('adam','mse')"
      ],
      "metadata": {
        "id": "1NcZOHNzmBdu"
      },
      "execution_count": 12,
      "outputs": []
    },
    {
      "cell_type": "markdown",
      "source": [
        "**summary**"
      ],
      "metadata": {
        "id": "xKk-KdObomXT"
      }
    },
    {
      "cell_type": "code",
      "source": [
        "model.summary()"
      ],
      "metadata": {
        "colab": {
          "base_uri": "https://localhost:8080/",
          "height": 161
        },
        "id": "GrximigjfwH2",
        "outputId": "04537a42-9c4b-4f64-b271-c8ff0eaff91c"
      },
      "execution_count": 13,
      "outputs": [
        {
          "output_type": "display_data",
          "data": {
            "text/plain": [
              "\u001b[1mModel: \"sequential\"\u001b[0m\n"
            ],
            "text/html": [
              "<pre style=\"white-space:pre;overflow-x:auto;line-height:normal;font-family:Menlo,'DejaVu Sans Mono',consolas,'Courier New',monospace\"><span style=\"font-weight: bold\">Model: \"sequential\"</span>\n",
              "</pre>\n"
            ]
          },
          "metadata": {}
        },
        {
          "output_type": "display_data",
          "data": {
            "text/plain": [
              "┏━━━━━━━━━━━━━━━━━━━━━━━━━━━━━━━━━━━━━━┳━━━━━━━━━━━━━━━━━━━━━━━━━━━━━┳━━━━━━━━━━━━━━━━━┓\n",
              "┃\u001b[1m \u001b[0m\u001b[1mLayer (type)                        \u001b[0m\u001b[1m \u001b[0m┃\u001b[1m \u001b[0m\u001b[1mOutput Shape               \u001b[0m\u001b[1m \u001b[0m┃\u001b[1m \u001b[0m\u001b[1m        Param #\u001b[0m\u001b[1m \u001b[0m┃\n",
              "┡━━━━━━━━━━━━━━━━━━━━━━━━━━━━━━━━━━━━━━╇━━━━━━━━━━━━━━━━━━━━━━━━━━━━━╇━━━━━━━━━━━━━━━━━┩\n",
              "│ embedding (\u001b[38;5;33mEmbedding\u001b[0m)                │ ?                           │     \u001b[38;5;34m0\u001b[0m (unbuilt) │\n",
              "└──────────────────────────────────────┴─────────────────────────────┴─────────────────┘\n"
            ],
            "text/html": [
              "<pre style=\"white-space:pre;overflow-x:auto;line-height:normal;font-family:Menlo,'DejaVu Sans Mono',consolas,'Courier New',monospace\">┏━━━━━━━━━━━━━━━━━━━━━━━━━━━━━━━━━━━━━━┳━━━━━━━━━━━━━━━━━━━━━━━━━━━━━┳━━━━━━━━━━━━━━━━━┓\n",
              "┃<span style=\"font-weight: bold\"> Layer (type)                         </span>┃<span style=\"font-weight: bold\"> Output Shape                </span>┃<span style=\"font-weight: bold\">         Param # </span>┃\n",
              "┡━━━━━━━━━━━━━━━━━━━━━━━━━━━━━━━━━━━━━━╇━━━━━━━━━━━━━━━━━━━━━━━━━━━━━╇━━━━━━━━━━━━━━━━━┩\n",
              "│ embedding (<span style=\"color: #0087ff; text-decoration-color: #0087ff\">Embedding</span>)                │ ?                           │     <span style=\"color: #00af00; text-decoration-color: #00af00\">0</span> (unbuilt) │\n",
              "└──────────────────────────────────────┴─────────────────────────────┴─────────────────┘\n",
              "</pre>\n"
            ]
          },
          "metadata": {}
        },
        {
          "output_type": "display_data",
          "data": {
            "text/plain": [
              "\u001b[1m Total params: \u001b[0m\u001b[38;5;34m0\u001b[0m (0.00 B)\n"
            ],
            "text/html": [
              "<pre style=\"white-space:pre;overflow-x:auto;line-height:normal;font-family:Menlo,'DejaVu Sans Mono',consolas,'Courier New',monospace\"><span style=\"font-weight: bold\"> Total params: </span><span style=\"color: #00af00; text-decoration-color: #00af00\">0</span> (0.00 B)\n",
              "</pre>\n"
            ]
          },
          "metadata": {}
        },
        {
          "output_type": "display_data",
          "data": {
            "text/plain": [
              "\u001b[1m Trainable params: \u001b[0m\u001b[38;5;34m0\u001b[0m (0.00 B)\n"
            ],
            "text/html": [
              "<pre style=\"white-space:pre;overflow-x:auto;line-height:normal;font-family:Menlo,'DejaVu Sans Mono',consolas,'Courier New',monospace\"><span style=\"font-weight: bold\"> Trainable params: </span><span style=\"color: #00af00; text-decoration-color: #00af00\">0</span> (0.00 B)\n",
              "</pre>\n"
            ]
          },
          "metadata": {}
        },
        {
          "output_type": "display_data",
          "data": {
            "text/plain": [
              "\u001b[1m Non-trainable params: \u001b[0m\u001b[38;5;34m0\u001b[0m (0.00 B)\n"
            ],
            "text/html": [
              "<pre style=\"white-space:pre;overflow-x:auto;line-height:normal;font-family:Menlo,'DejaVu Sans Mono',consolas,'Courier New',monospace\"><span style=\"font-weight: bold\"> Non-trainable params: </span><span style=\"color: #00af00; text-decoration-color: #00af00\">0</span> (0.00 B)\n",
              "</pre>\n"
            ]
          },
          "metadata": {}
        }
      ]
    },
    {
      "cell_type": "markdown",
      "source": [
        "**prediction the glass of milk**"
      ],
      "metadata": {
        "id": "1p-XW1WQpcOO"
      }
    },
    {
      "cell_type": "code",
      "source": [
        "embedded_docs[1]\n",
        "model.predict(embedded_docs[1])"
      ],
      "metadata": {
        "colab": {
          "base_uri": "https://localhost:8080/"
        },
        "id": "Cu5wYTzKosIv",
        "outputId": "ac19ee18-6760-4edd-a8e1-8105931006f6"
      },
      "execution_count": 14,
      "outputs": [
        {
          "output_type": "stream",
          "name": "stdout",
          "text": [
            "\u001b[1m1/1\u001b[0m \u001b[32m━━━━━━━━━━━━━━━━━━━━\u001b[0m\u001b[37m\u001b[0m \u001b[1m0s\u001b[0m 217ms/step\n"
          ]
        },
        {
          "output_type": "execute_result",
          "data": {
            "text/plain": [
              "array([[ 0.03860745, -0.01377603, -0.02676063, -0.00708859, -0.02071865,\n",
              "         0.03096123, -0.01553693,  0.02492697, -0.02467785, -0.04115584],\n",
              "       [ 0.03562665, -0.00309187,  0.01203232,  0.0419114 ,  0.01407709,\n",
              "         0.0449378 , -0.01397867, -0.00362289,  0.02578465, -0.00721411],\n",
              "       [-0.02376438,  0.02428645,  0.00140963, -0.00822283, -0.00585189,\n",
              "        -0.00026681,  0.02426294,  0.03593104,  0.02272275, -0.00018001],\n",
              "       [-0.04666612,  0.02040288,  0.00033685,  0.0142359 ,  0.04826595,\n",
              "        -0.01206486, -0.00590718,  0.02028025,  0.01734158,  0.00898021],\n",
              "       [-0.01432725,  0.01506002, -0.04803076,  0.00920709,  0.01431743,\n",
              "         0.03256276,  0.01595166, -0.02586378,  0.01081103, -0.00591158],\n",
              "       [-0.01432725,  0.01506002, -0.04803076,  0.00920709,  0.01431743,\n",
              "         0.03256276,  0.01595166, -0.02586378,  0.01081103, -0.00591158],\n",
              "       [-0.01432725,  0.01506002, -0.04803076,  0.00920709,  0.01431743,\n",
              "         0.03256276,  0.01595166, -0.02586378,  0.01081103, -0.00591158],\n",
              "       [-0.01432725,  0.01506002, -0.04803076,  0.00920709,  0.01431743,\n",
              "         0.03256276,  0.01595166, -0.02586378,  0.01081103, -0.00591158]],\n",
              "      dtype=float32)"
            ]
          },
          "metadata": {},
          "execution_count": 14
        }
      ]
    },
    {
      "cell_type": "code",
      "source": [
        "from tensorflow.keras.models import Sequential\n",
        "from tensorflow.keras.layers import Embedding, SimpleRNN, Dense\n",
        "from tensorflow.keras.preprocessing.text import Tokenizer\n",
        "from tensorflow.keras.preprocessing.sequence import pad_sequences\n",
        "import numpy as np\n",
        "\n",
        "\n",
        "\n",
        "texts = [\"Buy now! Limited time offer!\",\n",
        "         \"Hello, this is just a friendly reminder...\",\n",
        "         \"You've won $1,000,000! Click here to claim your prize!\",\n",
        "         \"Meeting agenda for today's conference call.\"]\n",
        "\n",
        "labels = [1, 0, 1, 0]\n",
        "\n",
        "\n",
        "max_words = 1000\n",
        "max_len = 100\n",
        "tokenizer = Tokenizer(num_words=max_words)\n",
        "tokenizer.fit_on_texts(texts)\n",
        "sequences = tokenizer.texts_to_sequences(texts)\n",
        "X = pad_sequences(sequences, maxlen=max_len)\n",
        "\n",
        "\n",
        "model = Sequential()\n",
        "model.add(Embedding(max_words, 64, input_length=max_len))\n",
        "model.add(SimpleRNN(32))\n",
        "model.add(Dense(1, activation='sigmoid'))\n",
        "\n",
        "model.compile(optimizer='adam', loss='binary_crossentropy', metrics=['accuracy'])\n",
        "\n",
        "\n",
        "X = np.array(X)\n",
        "labels = np.array(labels)\n",
        "\n",
        "\n",
        "model.fit(X, labels, epochs=10, batch_size=32, validation_split=0.2)\n",
        "\n",
        "\n",
        "loss, accuracy = model.evaluate(X, labels)\n",
        "print(\"Test Accuracy:\", accuracy)"
      ],
      "metadata": {
        "colab": {
          "base_uri": "https://localhost:8080/"
        },
        "id": "uM-dLcx_qtph",
        "outputId": "f2c2ea37-33d3-4a6e-e14e-1f0abfbdab05"
      },
      "execution_count": 21,
      "outputs": [
        {
          "output_type": "stream",
          "name": "stdout",
          "text": [
            "Epoch 1/10\n"
          ]
        },
        {
          "output_type": "stream",
          "name": "stderr",
          "text": [
            "/usr/local/lib/python3.10/dist-packages/keras/src/layers/core/embedding.py:90: UserWarning: Argument `input_length` is deprecated. Just remove it.\n",
            "  warnings.warn(\n"
          ]
        },
        {
          "output_type": "stream",
          "name": "stdout",
          "text": [
            "\u001b[1m1/1\u001b[0m \u001b[32m━━━━━━━━━━━━━━━━━━━━\u001b[0m\u001b[37m\u001b[0m \u001b[1m2s\u001b[0m 2s/step - accuracy: 0.6667 - loss: 0.6227 - val_accuracy: 0.0000e+00 - val_loss: 0.8015\n",
            "Epoch 2/10\n",
            "\u001b[1m1/1\u001b[0m \u001b[32m━━━━━━━━━━━━━━━━━━━━\u001b[0m\u001b[37m\u001b[0m \u001b[1m0s\u001b[0m 231ms/step - accuracy: 0.6667 - loss: 0.5717 - val_accuracy: 0.0000e+00 - val_loss: 0.8207\n",
            "Epoch 3/10\n",
            "\u001b[1m1/1\u001b[0m \u001b[32m━━━━━━━━━━━━━━━━━━━━\u001b[0m\u001b[37m\u001b[0m \u001b[1m0s\u001b[0m 140ms/step - accuracy: 0.6667 - loss: 0.5245 - val_accuracy: 0.0000e+00 - val_loss: 0.8271\n",
            "Epoch 4/10\n",
            "\u001b[1m1/1\u001b[0m \u001b[32m━━━━━━━━━━━━━━━━━━━━\u001b[0m\u001b[37m\u001b[0m \u001b[1m0s\u001b[0m 142ms/step - accuracy: 1.0000 - loss: 0.4816 - val_accuracy: 0.0000e+00 - val_loss: 0.8260\n",
            "Epoch 5/10\n",
            "\u001b[1m1/1\u001b[0m \u001b[32m━━━━━━━━━━━━━━━━━━━━\u001b[0m\u001b[37m\u001b[0m \u001b[1m0s\u001b[0m 73ms/step - accuracy: 1.0000 - loss: 0.4398 - val_accuracy: 0.0000e+00 - val_loss: 0.8191\n",
            "Epoch 6/10\n",
            "\u001b[1m1/1\u001b[0m \u001b[32m━━━━━━━━━━━━━━━━━━━━\u001b[0m\u001b[37m\u001b[0m \u001b[1m0s\u001b[0m 142ms/step - accuracy: 1.0000 - loss: 0.3987 - val_accuracy: 0.0000e+00 - val_loss: 0.8065\n",
            "Epoch 7/10\n",
            "\u001b[1m1/1\u001b[0m \u001b[32m━━━━━━━━━━━━━━━━━━━━\u001b[0m\u001b[37m\u001b[0m \u001b[1m0s\u001b[0m 142ms/step - accuracy: 1.0000 - loss: 0.3592 - val_accuracy: 0.0000e+00 - val_loss: 0.7897\n",
            "Epoch 8/10\n",
            "\u001b[1m1/1\u001b[0m \u001b[32m━━━━━━━━━━━━━━━━━━━━\u001b[0m\u001b[37m\u001b[0m \u001b[1m0s\u001b[0m 139ms/step - accuracy: 1.0000 - loss: 0.3218 - val_accuracy: 0.0000e+00 - val_loss: 0.7709\n",
            "Epoch 9/10\n",
            "\u001b[1m1/1\u001b[0m \u001b[32m━━━━━━━━━━━━━━━━━━━━\u001b[0m\u001b[37m\u001b[0m \u001b[1m0s\u001b[0m 145ms/step - accuracy: 1.0000 - loss: 0.2868 - val_accuracy: 0.0000e+00 - val_loss: 0.7533\n",
            "Epoch 10/10\n",
            "\u001b[1m1/1\u001b[0m \u001b[32m━━━━━━━━━━━━━━━━━━━━\u001b[0m\u001b[37m\u001b[0m \u001b[1m0s\u001b[0m 71ms/step - accuracy: 1.0000 - loss: 0.2543 - val_accuracy: 0.0000e+00 - val_loss: 0.7420\n",
            "\u001b[1m1/1\u001b[0m \u001b[32m━━━━━━━━━━━━━━━━━━━━\u001b[0m\u001b[37m\u001b[0m \u001b[1m0s\u001b[0m 40ms/step - accuracy: 0.7500 - loss: 0.3541\n",
            "Test Accuracy: 0.75\n"
          ]
        }
      ]
    },
    {
      "cell_type": "code",
      "source": [
        "new_texts = [\"Special offer! Buy now and get 50% off!\",\n",
        "             \"Congratulations! You've won a free vacation package!\",\n",
        "             \"Reminder: Your appointment is tomorrow at 10 AM.\",\"Hello, this is just a friendly reminder...\"]\n",
        "\n",
        "new_sequences = tokenizer.texts_to_sequences(new_texts)\n",
        "new_X = pad_sequences(new_sequences, maxlen=max_len)\n",
        "\n",
        "\n",
        "predictions = model.predict(new_X)\n",
        "\n",
        "\n",
        "for text, pred in zip(new_texts, predictions):\n",
        "    print(f\"Email: {text}\")\n",
        "    print(f\"Spam Probability: {pred[0]}\")\n",
        "    if pred[0] > 0.5:\n",
        "        print(\"Prediction: Spam\")\n",
        "    else:\n",
        "        print(\"Prediction: Not Spam\")\n",
        "    print()"
      ],
      "metadata": {
        "colab": {
          "base_uri": "https://localhost:8080/"
        },
        "id": "UcLckZCsqzGy",
        "outputId": "ad0d8d0b-b7c2-4c3d-fe39-4a2caf221531"
      },
      "execution_count": 22,
      "outputs": [
        {
          "output_type": "stream",
          "name": "stdout",
          "text": [
            "\u001b[1m1/1\u001b[0m \u001b[32m━━━━━━━━━━━━━━━━━━━━\u001b[0m\u001b[37m\u001b[0m \u001b[1m0s\u001b[0m 191ms/step\n",
            "Email: Special offer! Buy now and get 50% off!\n",
            "Spam Probability: 0.616345226764679\n",
            "Prediction: Spam\n",
            "\n",
            "Email: Congratulations! You've won a free vacation package!\n",
            "Spam Probability: 0.6213865280151367\n",
            "Prediction: Spam\n",
            "\n",
            "Email: Reminder: Your appointment is tomorrow at 10 AM.\n",
            "Spam Probability: 0.5988642573356628\n",
            "Prediction: Spam\n",
            "\n",
            "Email: Hello, this is just a friendly reminder...\n",
            "Spam Probability: 0.2390315681695938\n",
            "Prediction: Not Spam\n",
            "\n"
          ]
        }
      ]
    }
  ]
}